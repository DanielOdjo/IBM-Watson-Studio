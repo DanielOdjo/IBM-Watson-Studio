{
    "cells": [
        {
            "cell_type": "markdown",
            "metadata": {},
            "source": "# TITAN TITAN'S LOTTERY NUMBERS "
        },
        {
            "cell_type": "markdown",
            "metadata": {},
            "source": "### on the following cell, run code by pressing \"shift + enter\""
        },
        {
            "cell_type": "code",
            "execution_count": 3,
            "metadata": {},
            "outputs": [
                {
                    "name": "stdout",
                    "output_type": "stream",
                    "text": "TITAN,TITAN, YOUR LOTTERY NUMBERS ARE:\n[ 2 16 20 27 37 43]\n"
                }
            ],
            "source": "from random import seed\nfrom random import randint\n#seed(2)\nimport numpy as np\n\n\n\n\nfinal_numbers=np.array((0,0,0,0,0,0))\nall_numbers=np.array(np.arange(1,60))\n\n\nfor i in range(0,6):\n x=randint(0,58-i)\n a=all_numbers[x]\n final_numbers[i]=a\n all_numbers=np.delete(all_numbers,x)\n\n\ndef selection_sort(y):\n    for j in range(len(y)):\n        swap=j+np.argmin(y[j:])\n        (y[j],y[swap])=(y[swap],y[j])\n    return y\n\nfinal_numbers=selection_sort(final_numbers)\n\nprint(\"TITAN,TITAN, YOUR LOTTERY NUMBERS ARE:\")\nprint(final_numbers)"
        },
        {
            "cell_type": "code",
            "execution_count": null,
            "metadata": {},
            "outputs": [],
            "source": ""
        }
    ],
    "metadata": {
        "kernelspec": {
            "display_name": "Python 3.6",
            "language": "python",
            "name": "python3"
        },
        "language_info": {
            "codemirror_mode": {
                "name": "ipython",
                "version": 3
            },
            "file_extension": ".py",
            "mimetype": "text/x-python",
            "name": "python",
            "nbconvert_exporter": "python",
            "pygments_lexer": "ipython3",
            "version": "3.6.9"
        }
    },
    "nbformat": 4,
    "nbformat_minor": 1
}